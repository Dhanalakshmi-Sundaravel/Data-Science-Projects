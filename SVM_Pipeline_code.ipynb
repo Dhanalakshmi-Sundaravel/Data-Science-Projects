{
 "cells": [
  {
   "cell_type": "markdown",
   "metadata": {},
   "source": [
    "# Sample code for Assignment 3"
   ]
  },
  {
   "cell_type": "markdown",
   "metadata": {},
   "source": [
    "## Basic SVM code  for wine"
   ]
  },
  {
   "cell_type": "code",
   "execution_count": 1,
   "metadata": {},
   "outputs": [
    {
     "name": "stdout",
     "output_type": "stream",
     "text": [
      "(133, 13) (45, 13)\n"
     ]
    }
   ],
   "source": [
    "from sklearn.datasets import load_wine\n",
    "from sklearn.model_selection import train_test_split\n",
    "wine = load_wine()\n",
    "X_train, X_test, y_train, y_test = train_test_split(wine.data, wine.target, random_state=0)\n",
    "print(X_train.shape, X_test.shape)"
   ]
  },
  {
   "cell_type": "code",
   "execution_count": 2,
   "metadata": {},
   "outputs": [
    {
     "data": {
      "text/plain": [
       "0.3910056071330086"
      ]
     },
     "execution_count": 2,
     "metadata": {},
     "output_type": "execute_result"
    }
   ],
   "source": [
    "from sklearn.svm import SVC\n",
    "from sklearn.model_selection import cross_val_score\n",
    "import numpy as np\n",
    "svm = SVC()\n",
    "np.mean(cross_val_score(svm, X_train, y_train))"
   ]
  },
  {
   "cell_type": "code",
   "execution_count": 3,
   "metadata": {},
   "outputs": [
    {
     "data": {
      "text/plain": [
       "0.5111111111111111"
      ]
     },
     "execution_count": 3,
     "metadata": {},
     "output_type": "execute_result"
    }
   ],
   "source": [
    "svm.fit(X_train, y_train)\n",
    "svm.score(X_test, y_test)"
   ]
  },
  {
   "cell_type": "markdown",
   "metadata": {},
   "source": [
    "### Comments for task 4"
   ]
  },
  {
   "cell_type": "markdown",
   "metadata": {},
   "source": [
    "The accuracy is very low, and the estimate of accuracy produced by cross-validation is a gross underestimate."
   ]
  },
  {
   "cell_type": "code",
   "execution_count": 4,
   "metadata": {},
   "outputs": [
    {
     "name": "stdout",
     "output_type": "stream",
     "text": [
      "Best cross-validation accuracy: 0.9774436090225563\n",
      "Test set score: 0.9777777777777777\n",
      "Best parameters: {'svc__C': 1, 'svc__gamma': 0.01}\n"
     ]
    }
   ],
   "source": [
    "# In the following code I have tried different normalizers\n",
    "# (StandardScaler, MinMaxScaler, RobustScaler, Normalizer)\n",
    "from sklearn.pipeline import make_pipeline\n",
    "from sklearn.preprocessing import StandardScaler, MinMaxScaler, RobustScaler, Normalizer\n",
    "from sklearn.model_selection import GridSearchCV\n",
    "pipe = make_pipeline(StandardScaler(), SVC())\n",
    "param_grid = {'svc__C': [0.01, 0.1, 1, 10, 100], 'svc__gamma': [0.01, 0.1, 1, 10, 100]}\n",
    "grid = GridSearchCV(pipe, param_grid=param_grid, cv=5)\n",
    "grid.fit(X_train, y_train)\n",
    "print(\"Best cross-validation accuracy:\", grid.best_score_)\n",
    "print(\"Test set score:\", grid.score(X_test, y_test))\n",
    "print(\"Best parameters:\", grid.best_params_)"
   ]
  },
  {
   "cell_type": "markdown",
   "metadata": {},
   "source": [
    "### Comments for task 5"
   ]
  },
  {
   "cell_type": "markdown",
   "metadata": {},
   "source": [
    "Any of the three scalers and parameter selection improve the results drastically (98% for StandardScaler).  The normalizer gives results that are much worse but not hopeless (score of 91%)."
   ]
  },
  {
   "cell_type": "markdown",
   "metadata": {},
   "source": [
    "## Cross-conformal predictor for wine"
   ]
  },
  {
   "cell_type": "markdown",
   "metadata": {},
   "source": [
    "First we split the indices of the training set into 3 folds."
   ]
  },
  {
   "cell_type": "code",
   "execution_count": 5,
   "metadata": {},
   "outputs": [],
   "source": [
    "from sklearn.model_selection import KFold\n",
    "kf = KFold(shuffle=True, random_state=0, n_splits=3)"
   ]
  },
  {
   "cell_type": "markdown",
   "metadata": {},
   "source": [
    "Let now compute the p-values, as in Chapter 9."
   ]
  },
  {
   "cell_type": "code",
   "execution_count": 6,
   "metadata": {},
   "outputs": [],
   "source": [
    "n_train = X_train.shape[0]  # size of the test set\n",
    "n_test = X_test.shape[0]  # size of the test set\n",
    "n_classes = 3  # number of classes\n",
    "p = np.zeros((n_test, n_classes))  # initializing the array of p-values\n",
    "ranks = np.zeros((n_test, n_classes))  # initializing the array for accumulating ranks\n",
    "for rest_index, fold_index in kf.split(X_train):\n",
    "  X_rest, X_fold = X_train[rest_index], X_train[fold_index]\n",
    "  y_rest, y_fold = y_train[rest_index], y_train[fold_index]\n",
    "  grid.fit(X_rest, y_rest)\n",
    "  df_fold = grid.decision_function(X_fold)\n",
    "  df_test = grid.decision_function(X_test)\n",
    "  n_fold = X_fold.shape[0]   # size of the current fold\n",
    "  alpha_fold = np.zeros(n_fold)  # initializing the conformity scores for the fold\n",
    "  for i in range(n_fold):\n",
    "    alpha_fold[i] = df_fold[i,y_fold[i]]  # conformity score of the ith element of the fold\n",
    "  for j in range(n_test):\n",
    "    for l in range(n_classes):\n",
    "      ranks[j,l] = ranks[j,l] + np.sum(alpha_fold <= df_test[j,l])\n",
    "# turning accumulated ranks into p-values:\n",
    "p = (ranks+1) / (n_train+1)"
   ]
  },
  {
   "cell_type": "markdown",
   "metadata": {},
   "source": [
    "Now let us use the code given in Lab Worksheet 9 for plotting the calibration curve."
   ]
  },
  {
   "cell_type": "code",
   "execution_count": 7,
   "metadata": {},
   "outputs": [
    {
     "data": {
      "text/plain": [
       "[<matplotlib.lines.Line2D at 0x231764ba6d8>]"
      ]
     },
     "execution_count": 7,
     "metadata": {},
     "output_type": "execute_result"
    },
    {
     "data": {
      "image/png": "[encoded data removed]",
      "text/plain": [
       "<Figure size 432x288 with 1 Axes>"
      ]
     },
     "metadata": {},
     "output_type": "display_data"
    }
   ],
   "source": [
    "%matplotlib inline\n",
    "import matplotlib.pyplot as plt\n",
    "eps = np.zeros(100) # a range of significance levels\n",
    "err = np.zeros(100) # the corresponding error rates\n",
    "for k in range(100):\n",
    "  eps[k] = k/100 # considering eps = k%\n",
    "  err[k] = 0 # initializing the error rate\n",
    "  for j in range(n_test):\n",
    "    if (p[j,y_test[j]] <= eps[k]): # if we made an error\n",
    "      err[k] = err[k] + 1 # count this error\n",
    "  err[k] = err[k] / n_test # number of errors -> error rate\n",
    "plt.plot(eps, err)"
   ]
  },
  {
   "cell_type": "markdown",
   "metadata": {},
   "source": [
    "Now let's find the average false p-value."
   ]
  },
  {
   "cell_type": "code",
   "execution_count": 8,
   "metadata": {},
   "outputs": [
    {
     "name": "stdout",
     "output_type": "stream",
     "text": [
      "0.013930348258706458\n"
     ]
    }
   ],
   "source": [
    "sum_p_values = 0\n",
    "for j in range(n_test):\n",
    "  sum_p_values = sum_p_values + p[j,0] + p[j,1] + p[j,2] - p[j,y_test[j]]\n",
    "print(sum_p_values / (n_test*2))"
   ]
  },
  {
   "cell_type": "markdown",
   "metadata": {},
   "source": [
    "## Neural net code  for wine"
   ]
  },
  {
   "cell_type": "code",
   "execution_count": 9,
   "metadata": {},
   "outputs": [
    {
     "data": {
      "text/plain": [
       "0.3527514783834298"
      ]
     },
     "execution_count": 9,
     "metadata": {},
     "output_type": "execute_result"
    }
   ],
   "source": [
    "from sklearn.neural_network import MLPClassifier\n",
    "mlp = MLPClassifier()\n",
    "np.mean(cross_val_score(mlp, X_train, y_train))"
   ]
  },
  {
   "cell_type": "code",
   "execution_count": 10,
   "metadata": {},
   "outputs": [
    {
     "data": {
      "text/plain": [
       "0.35555555555555557"
      ]
     },
     "execution_count": 10,
     "metadata": {},
     "output_type": "execute_result"
    }
   ],
   "source": [
    "mlp.fit(X_train, y_train)\n",
    "mlp.score(X_test, y_test)"
   ]
  },
  {
   "cell_type": "markdown",
   "metadata": {},
   "source": [
    "Let us see what the default parameters are:"
   ]
  },
  {
   "cell_type": "code",
   "execution_count": 11,
   "metadata": {},
   "outputs": [
    {
     "data": {
      "text/plain": [
       "MLPClassifier(activation='relu', alpha=0.0001, batch_size='auto', beta_1=0.9,\n",
       "       beta_2=0.999, early_stopping=False, epsilon=1e-08,\n",
       "       hidden_layer_sizes=(100,), learning_rate='constant',\n",
       "       learning_rate_init=0.001, max_iter=200, momentum=0.9,\n",
       "       nesterovs_momentum=True, power_t=0.5, random_state=None,\n",
       "       shuffle=True, solver='adam', tol=0.0001, validation_fraction=0.1,\n",
       "       verbose=False, warm_start=False)"
      ]
     },
     "execution_count": 11,
     "metadata": {},
     "output_type": "execute_result"
    }
   ],
   "source": [
    "mlp"
   ]
  },
  {
   "cell_type": "markdown",
   "metadata": {},
   "source": [
    "### Comments for task 4"
   ]
  },
  {
   "cell_type": "markdown",
   "metadata": {},
   "source": [
    "The accuracy is even worse than it was for SVM, but the estimate of accuracy produced by cross-validation is OK."
   ]
  },
  {
   "cell_type": "code",
   "execution_count": 12,
   "metadata": {},
   "outputs": [
    {
     "name": "stderr",
     "output_type": "stream",
     "text": [
      "C:\\Users\\uhac013\\Anaconda3\\lib\\site-packages\\sklearn\\neural_network\\multilayer_perceptron.py:564: ConvergenceWarning: Stochastic Optimizer: Maximum iterations (200) reached and the optimization hasn't converged yet.\n",
      "  % self.max_iter, ConvergenceWarning)\n",
      "C:\\Users\\uhac013\\Anaconda3\\lib\\site-packages\\sklearn\\neural_network\\multilayer_perceptron.py:564: ConvergenceWarning: Stochastic Optimizer: Maximum iterations (200) reached and the optimization hasn't converged yet.\n",
      "  % self.max_iter, ConvergenceWarning)\n",
      "C:\\Users\\uhac013\\Anaconda3\\lib\\site-packages\\sklearn\\neural_network\\multilayer_perceptron.py:564: ConvergenceWarning: Stochastic Optimizer: Maximum iterations (200) reached and the optimization hasn't converged yet.\n",
      "  % self.max_iter, ConvergenceWarning)\n",
      "C:\\Users\\uhac013\\Anaconda3\\lib\\site-packages\\sklearn\\neural_network\\multilayer_perceptron.py:564: ConvergenceWarning: Stochastic Optimizer: Maximum iterations (200) reached and the optimization hasn't converged yet.\n",
      "  % self.max_iter, ConvergenceWarning)\n",
      "C:\\Users\\uhac013\\Anaconda3\\lib\\site-packages\\sklearn\\neural_network\\multilayer_perceptron.py:564: ConvergenceWarning: Stochastic Optimizer: Maximum iterations (200) reached and the optimization hasn't converged yet.\n",
      "  % self.max_iter, ConvergenceWarning)\n",
      "C:\\Users\\uhac013\\Anaconda3\\lib\\site-packages\\sklearn\\neural_network\\multilayer_perceptron.py:564: ConvergenceWarning: Stochastic Optimizer: Maximum iterations (200) reached and the optimization hasn't converged yet.\n",
      "  % self.max_iter, ConvergenceWarning)\n",
      "C:\\Users\\uhac013\\Anaconda3\\lib\\site-packages\\sklearn\\neural_network\\multilayer_perceptron.py:564: ConvergenceWarning: Stochastic Optimizer: Maximum iterations (200) reached and the optimization hasn't converged yet.\n",
      "  % self.max_iter, ConvergenceWarning)\n",
      "C:\\Users\\uhac013\\Anaconda3\\lib\\site-packages\\sklearn\\neural_network\\multilayer_perceptron.py:564: ConvergenceWarning: Stochastic Optimizer: Maximum iterations (200) reached and the optimization hasn't converged yet.\n",
      "  % self.max_iter, ConvergenceWarning)\n",
      "C:\\Users\\uhac013\\Anaconda3\\lib\\site-packages\\sklearn\\neural_network\\multilayer_perceptron.py:564: ConvergenceWarning: Stochastic Optimizer: Maximum iterations (200) reached and the optimization hasn't converged yet.\n",
      "  % self.max_iter, ConvergenceWarning)\n",
      "C:\\Users\\uhac013\\Anaconda3\\lib\\site-packages\\sklearn\\neural_network\\multilayer_perceptron.py:564: ConvergenceWarning: Stochastic Optimizer: Maximum iterations (200) reached and the optimization hasn't converged yet.\n",
      "  % self.max_iter, ConvergenceWarning)\n",
      "C:\\Users\\uhac013\\Anaconda3\\lib\\site-packages\\sklearn\\neural_network\\multilayer_perceptron.py:564: ConvergenceWarning: Stochastic Optimizer: Maximum iterations (200) reached and the optimization hasn't converged yet.\n",
      "  % self.max_iter, ConvergenceWarning)\n",
      "C:\\Users\\uhac013\\Anaconda3\\lib\\site-packages\\sklearn\\neural_network\\multilayer_perceptron.py:564: ConvergenceWarning: Stochastic Optimizer: Maximum iterations (200) reached and the optimization hasn't converged yet.\n",
      "  % self.max_iter, ConvergenceWarning)\n",
      "C:\\Users\\uhac013\\Anaconda3\\lib\\site-packages\\sklearn\\neural_network\\multilayer_perceptron.py:564: ConvergenceWarning: Stochastic Optimizer: Maximum iterations (200) reached and the optimization hasn't converged yet.\n",
      "  % self.max_iter, ConvergenceWarning)\n",
      "C:\\Users\\uhac013\\Anaconda3\\lib\\site-packages\\sklearn\\neural_network\\multilayer_perceptron.py:564: ConvergenceWarning: Stochastic Optimizer: Maximum iterations (200) reached and the optimization hasn't converged yet.\n",
      "  % self.max_iter, ConvergenceWarning)\n",
      "C:\\Users\\uhac013\\Anaconda3\\lib\\site-packages\\sklearn\\neural_network\\multilayer_perceptron.py:564: ConvergenceWarning: Stochastic Optimizer: Maximum iterations (200) reached and the optimization hasn't converged yet.\n",
      "  % self.max_iter, ConvergenceWarning)\n",
      "C:\\Users\\uhac013\\Anaconda3\\lib\\site-packages\\sklearn\\neural_network\\multilayer_perceptron.py:564: ConvergenceWarning: Stochastic Optimizer: Maximum iterations (200) reached and the optimization hasn't converged yet.\n",
      "  % self.max_iter, ConvergenceWarning)\n",
      "C:\\Users\\uhac013\\Anaconda3\\lib\\site-packages\\sklearn\\neural_network\\multilayer_perceptron.py:564: ConvergenceWarning: Stochastic Optimizer: Maximum iterations (200) reached and the optimization hasn't converged yet.\n",
      "  % self.max_iter, ConvergenceWarning)\n",
      "C:\\Users\\uhac013\\Anaconda3\\lib\\site-packages\\sklearn\\neural_network\\multilayer_perceptron.py:564: ConvergenceWarning: Stochastic Optimizer: Maximum iterations (200) reached and the optimization hasn't converged yet.\n",
      "  % self.max_iter, ConvergenceWarning)\n",
      "C:\\Users\\uhac013\\Anaconda3\\lib\\site-packages\\sklearn\\neural_network\\multilayer_perceptron.py:564: ConvergenceWarning: Stochastic Optimizer: Maximum iterations (200) reached and the optimization hasn't converged yet.\n",
      "  % self.max_iter, ConvergenceWarning)\n",
      "C:\\Users\\uhac013\\Anaconda3\\lib\\site-packages\\sklearn\\neural_network\\multilayer_perceptron.py:564: ConvergenceWarning: Stochastic Optimizer: Maximum iterations (200) reached and the optimization hasn't converged yet.\n",
      "  % self.max_iter, ConvergenceWarning)\n",
      "C:\\Users\\uhac013\\Anaconda3\\lib\\site-packages\\sklearn\\neural_network\\multilayer_perceptron.py:564: ConvergenceWarning: Stochastic Optimizer: Maximum iterations (200) reached and the optimization hasn't converged yet.\n",
      "  % self.max_iter, ConvergenceWarning)\n"
     ]
    },
    {
     "name": "stdout",
     "output_type": "stream",
     "text": [
      "Best cross-validation accuracy: 0.7969924812030075\n",
      "Test set score: 0.9555555555555556\n",
      "Best parameters: {'mlpclassifier__hidden_layer_sizes': (10,), 'mlpclassifier__learning_rate_init': 0.1}\n"
     ]
    },
    {
     "name": "stderr",
     "output_type": "stream",
     "text": [
      "C:\\Users\\uhac013\\Anaconda3\\lib\\site-packages\\sklearn\\neural_network\\multilayer_perceptron.py:564: ConvergenceWarning: Stochastic Optimizer: Maximum iterations (200) reached and the optimization hasn't converged yet.\n",
      "  % self.max_iter, ConvergenceWarning)\n"
     ]
    }
   ],
   "source": [
    "# In the following code I have tried different normalizers\n",
    "# (StandardScaler, MinMaxScaler, RobustScaler, Normalizer)\n",
    "pipe = make_pipeline(Normalizer(), MLPClassifier())\n",
    "param_grid = {'mlpclassifier__learning_rate_init': [0.001, 0.01, 0.1],\n",
    "  'mlpclassifier__hidden_layer_sizes': [(10,), (100,), (10,10)]}\n",
    "grid = GridSearchCV(pipe, param_grid=param_grid, cv=5)\n",
    "grid.fit(X_train, y_train)\n",
    "print(\"Best cross-validation accuracy:\", grid.best_score_)\n",
    "print(\"Test set score:\", grid.score(X_test, y_test))\n",
    "print(\"Best parameters:\", grid.best_params_)"
   ]
  },
  {
   "cell_type": "markdown",
   "metadata": {},
   "source": [
    "### Comments for task 5"
   ]
  },
  {
   "cell_type": "markdown",
   "metadata": {},
   "source": [
    "Any of the three scalers and parameter selection improve the results drastically (96% for StandardScaler, slightly worse than for SVM).  It's interesting that the normalizer also gives a good result (score of 96%)."
   ]
  },
  {
   "cell_type": "markdown",
   "metadata": {},
   "source": [
    "## Basic SVM code  for USPS"
   ]
  },
  {
   "cell_type": "code",
   "execution_count": 13,
   "metadata": {},
   "outputs": [],
   "source": [
    "original_train_data = np.genfromtxt(\"zip.train.gz\", usecols=np.arange(1,257), dtype='float')\n",
    "original_test_data = np.genfromtxt(\"zip.test.gz\", usecols=np.arange(1,257), dtype='float')\n",
    "original_data = np.row_stack((original_train_data, original_test_data))"
   ]
  },
  {
   "cell_type": "code",
   "execution_count": 14,
   "metadata": {},
   "outputs": [],
   "source": [
    "original_train_target = np.genfromtxt(\"zip.train.gz\", usecols=0, dtype='int')\n",
    "original_test_target = np.genfromtxt(\"zip.test.gz\", usecols=0, dtype='int')\n",
    "original_target = np.append(original_train_target, original_test_target)"
   ]
  },
  {
   "cell_type": "code",
   "execution_count": 15,
   "metadata": {},
   "outputs": [
    {
     "data": {
      "text/plain": [
       "(9298,)"
      ]
     },
     "execution_count": 15,
     "metadata": {},
     "output_type": "execute_result"
    }
   ],
   "source": [
    "original_target.shape"
   ]
  },
  {
   "cell_type": "code",
   "execution_count": 16,
   "metadata": {},
   "outputs": [
    {
     "name": "stdout",
     "output_type": "stream",
     "text": [
      "(6973, 256) (2325, 256)\n"
     ]
    }
   ],
   "source": [
    "X_train, X_test, y_train, y_test = train_test_split(original_data, original_target, random_state=100)\n",
    "print(X_train.shape, X_test.shape)"
   ]
  },
  {
   "cell_type": "code",
   "execution_count": 17,
   "metadata": {},
   "outputs": [
    {
     "name": "stdout",
     "output_type": "stream",
     "text": [
      "0.9663001483442297\n",
      "18.09667944908142 seconds\n"
     ]
    }
   ],
   "source": [
    "# In addition to what I did for the wine dataset, I will time the classifier.\n",
    "import time\n",
    "start = time.time()\n",
    "print(np.mean(cross_val_score(svm, X_train, y_train)))\n",
    "print(time.time() - start, \"seconds\")"
   ]
  },
  {
   "cell_type": "code",
   "execution_count": 18,
   "metadata": {},
   "outputs": [
    {
     "name": "stdout",
     "output_type": "stream",
     "text": [
      "0.9638709677419355\n",
      "11.90822982788086 seconds\n"
     ]
    }
   ],
   "source": [
    "import time\n",
    "start = time.time()\n",
    "svm.fit(X_train, y_train)\n",
    "print(svm.score(X_test, y_test))\n",
    "print(time.time() - start, \"seconds\")"
   ]
  },
  {
   "cell_type": "markdown",
   "metadata": {},
   "source": [
    "### Comments for task 4"
   ]
  },
  {
   "cell_type": "markdown",
   "metadata": {},
   "source": [
    "The accuracy appears quite good (perhaps because the digits are already normalized), and the estimate of accuracy produced by cross-validation is also good."
   ]
  },
  {
   "cell_type": "code",
   "execution_count": 19,
   "metadata": {},
   "outputs": [
    {
     "name": "stdout",
     "output_type": "stream",
     "text": [
      "Best cross-validation accuracy: 0.9297289545389359\n",
      "Test set score: 0.9341935483870968\n",
      "Best parameters: {'svc__C': 10, 'svc__gamma': 0.01}\n",
      "520.7920281887054 seconds\n"
     ]
    }
   ],
   "source": [
    "# In the following code I have tried different scalers\n",
    "# (StandardScaler, MinMaxScaler, RobustScaler).\n",
    "# The default value of gamma is 1 / n_features = 1/256.\n",
    "# The default value of C is 1.\n",
    "# For a param_grid of size 4, about 9 minutes (although it might become slower for larger C).\n",
    "# Since the code runs so slowly now I will remember different grids (giving them different names)\n",
    "#   so that I can reuse them easily.\n",
    "import time\n",
    "start = time.time()\n",
    "pipe = make_pipeline(StandardScaler(), SVC())\n",
    "param_grid = {'svc__C': [1, 10], 'svc__gamma': [0.01, 0.1]}\n",
    "grid_s_svc = GridSearchCV(pipe, param_grid=param_grid)\n",
    "grid_s_svc.fit(X_train, y_train)\n",
    "print(\"Best cross-validation accuracy:\", grid_s_svc.best_score_)\n",
    "print(\"Test set score:\", grid_s_svc.score(X_test, y_test))\n",
    "print(\"Best parameters:\", grid_s_svc.best_params_)\n",
    "print(time.time() - start, \"seconds\")"
   ]
  },
  {
   "cell_type": "code",
   "execution_count": 20,
   "metadata": {},
   "outputs": [
    {
     "name": "stdout",
     "output_type": "stream",
     "text": [
      "Best cross-validation accuracy: 0.959414885988814\n",
      "Test set score: 0.9539784946236559\n",
      "Best parameters: {'svc__C': 10, 'svc__gamma': 0.1}\n",
      "286.6835927963257 seconds\n"
     ]
    }
   ],
   "source": [
    "# This is identical to the previous cell, except that now we use Normalizer.\n",
    "# For a param_grid of size 4, about 5 minutes.\n",
    "import time\n",
    "start = time.time()\n",
    "pipe = make_pipeline(Normalizer(), SVC())\n",
    "param_grid = {'svc__C': [1, 10], 'svc__gamma': [0.01, 0.1]}\n",
    "grid_n_svc = GridSearchCV(pipe, param_grid=param_grid)\n",
    "grid_n_svc.fit(X_train, y_train)\n",
    "print(\"Best cross-validation accuracy:\", grid_n_svc.best_score_)\n",
    "print(\"Test set score:\", grid_n_svc.score(X_test, y_test))\n",
    "print(\"Best parameters:\", grid_n_svc.best_params_)\n",
    "print(time.time() - start, \"seconds\")"
   ]
  },
  {
   "cell_type": "markdown",
   "metadata": {},
   "source": [
    "### Comments for task 5"
   ]
  },
  {
   "cell_type": "markdown",
   "metadata": {},
   "source": [
    "The normalizer and parameter selection do not improve the results.  The three scalers make results worse but surprisingly they do not become hopeless."
   ]
  },
  {
   "cell_type": "markdown",
   "metadata": {},
   "source": [
    "## Cross-conformal predictor for USPS"
   ]
  },
  {
   "cell_type": "markdown",
   "metadata": {},
   "source": [
    "First we compute the p-values, as in Chapter 9.  We can use either one of the grids or svm (which as we know works fine, even without preprocessing and with the default values of parameters)."
   ]
  },
  {
   "cell_type": "code",
   "execution_count": 21,
   "metadata": {},
   "outputs": [
    {
     "name": "stdout",
     "output_type": "stream",
     "text": [
      "433.49270725250244 seconds\n"
     ]
    }
   ],
   "source": [
    "# About 7 minutes.\n",
    "import time\n",
    "start = time.time()\n",
    "n_train = X_train.shape[0]  # size of the test set\n",
    "n_test = X_test.shape[0]  # size of the test set\n",
    "n_classes = 10  # number of classes\n",
    "p = np.zeros((n_test, n_classes))  # initializing the array of p-values\n",
    "ranks = np.zeros((n_test, n_classes))  # initializing the array for accumulating ranks\n",
    "for rest_index, fold_index in kf.split(X_train):\n",
    "  X_rest, X_fold = X_train[rest_index], X_train[fold_index]\n",
    "  y_rest, y_fold = y_train[rest_index], y_train[fold_index]\n",
    "  grid_n_svc.fit(X_rest, y_rest)\n",
    "  df_fold = grid_n_svc.decision_function(X_fold)\n",
    "  df_test = grid_n_svc.decision_function(X_test)\n",
    "  n_fold = X_fold.shape[0]   # size of the current fold\n",
    "  alpha_fold = np.zeros(n_fold)  # initializing the conformity scores for the fold\n",
    "  for i in range(n_fold):\n",
    "    alpha_fold[i] = df_fold[i,y_fold[i]]  # conformity score of the ith element of the fold\n",
    "  for j in range(n_test):\n",
    "    for l in range(n_classes):\n",
    "      ranks[j,l] = ranks[j,l] + np.sum(alpha_fold <= df_test[j,l])\n",
    "# turning accumulated ranks into p-values:\n",
    "p = (ranks+1) / (n_train+1)\n",
    "print(time.time() - start, \"seconds\")"
   ]
  },
  {
   "cell_type": "markdown",
   "metadata": {},
   "source": [
    "Now let us use the code given in Lab Worksheet 9 for plotting the calibration curve."
   ]
  },
  {
   "cell_type": "code",
   "execution_count": 22,
   "metadata": {},
   "outputs": [
    {
     "data": {
      "image/png": "[encoded data removed]",
      "text/plain": [
       "<Figure size 432x288 with 1 Axes>"
      ]
     },
     "metadata": {},
     "output_type": "display_data"
    }
   ],
   "source": [
    "%matplotlib inline\n",
    "import matplotlib.pyplot as plt\n",
    "eps = np.zeros(100) # a range of significance levels\n",
    "err = np.zeros(100) # the corresponding error rates\n",
    "for k in range(100):\n",
    "  eps[k] = k/100 # considering eps = k%\n",
    "  err[k] = 0 # initializing the error rate\n",
    "  for j in range(n_test):\n",
    "    if (p[j,y_test[j]] <= eps[k]): # if we made an error\n",
    "      err[k] = err[k] + 1 # count this error\n",
    "  err[k] = err[k] / n_test # number of errors -> error rate\n",
    "plt.plot(eps, err)\n",
    "plt.xlabel('$\\epsilon$')\n",
    "plt.ylabel('error_rate($\\epsilon$)')\n",
    "plt.gcf().savefig('09_cal_curve.jpg',format='jpg',dpi=300)  # saving for Chapter 9"
   ]
  },
  {
   "cell_type": "markdown",
   "metadata": {},
   "source": [
    "Now let's find the average false p-value."
   ]
  },
  {
   "cell_type": "code",
   "execution_count": 23,
   "metadata": {},
   "outputs": [
    {
     "name": "stdout",
     "output_type": "stream",
     "text": [
      "0.007790540663238938\n"
     ]
    }
   ],
   "source": [
    "sum_p_values = 0\n",
    "for j in range(n_test):\n",
    "  sum_p_values = sum_p_values + p[j,0] + p[j,1] + p[j,2] + p[j,3] + p[j,4] + p[j,5] + p[j,6] + p[j,7] + p[j,8] + p[j,9]  - p[j,y_test[j]]\n",
    "print(sum_p_values / (n_test*9))"
   ]
  },
  {
   "cell_type": "markdown",
   "metadata": {},
   "source": [
    "## Neural net code  for USPS"
   ]
  },
  {
   "cell_type": "code",
   "execution_count": 24,
   "metadata": {},
   "outputs": [
    {
     "name": "stdout",
     "output_type": "stream",
     "text": [
      "0.9630046265373565\n",
      "19.171876430511475 seconds\n"
     ]
    }
   ],
   "source": [
    "import time\n",
    "start = time.time()\n",
    "mlp = MLPClassifier()\n",
    "print(np.mean(cross_val_score(mlp, X_train, y_train)))\n",
    "print(time.time() - start, \"seconds\")"
   ]
  },
  {
   "cell_type": "code",
   "execution_count": 25,
   "metadata": {},
   "outputs": [
    {
     "name": "stdout",
     "output_type": "stream",
     "text": [
      "0.9655913978494624\n",
      "8.514398336410522 seconds\n"
     ]
    }
   ],
   "source": [
    "import time\n",
    "start = time.time()\n",
    "mlp.fit(X_train, y_train)\n",
    "print(mlp.score(X_test, y_test))\n",
    "print(time.time() - start, \"seconds\")"
   ]
  },
  {
   "cell_type": "markdown",
   "metadata": {},
   "source": [
    "### Comments for task 4"
   ]
  },
  {
   "cell_type": "markdown",
   "metadata": {},
   "source": [
    "The accuracy is good (close to what we get for SVM), and the estimate of accuracy produced by cross-validation is also good."
   ]
  },
  {
   "cell_type": "code",
   "execution_count": 26,
   "metadata": {},
   "outputs": [
    {
     "name": "stderr",
     "output_type": "stream",
     "text": [
      "C:\\Users\\uhac013\\Anaconda3\\lib\\site-packages\\sklearn\\neural_network\\multilayer_perceptron.py:564: ConvergenceWarning: Stochastic Optimizer: Maximum iterations (200) reached and the optimization hasn't converged yet.\n",
      "  % self.max_iter, ConvergenceWarning)\n",
      "C:\\Users\\uhac013\\Anaconda3\\lib\\site-packages\\sklearn\\neural_network\\multilayer_perceptron.py:564: ConvergenceWarning: Stochastic Optimizer: Maximum iterations (200) reached and the optimization hasn't converged yet.\n",
      "  % self.max_iter, ConvergenceWarning)\n",
      "C:\\Users\\uhac013\\Anaconda3\\lib\\site-packages\\sklearn\\neural_network\\multilayer_perceptron.py:564: ConvergenceWarning: Stochastic Optimizer: Maximum iterations (200) reached and the optimization hasn't converged yet.\n",
      "  % self.max_iter, ConvergenceWarning)\n",
      "C:\\Users\\uhac013\\Anaconda3\\lib\\site-packages\\sklearn\\neural_network\\multilayer_perceptron.py:564: ConvergenceWarning: Stochastic Optimizer: Maximum iterations (200) reached and the optimization hasn't converged yet.\n",
      "  % self.max_iter, ConvergenceWarning)\n",
      "C:\\Users\\uhac013\\Anaconda3\\lib\\site-packages\\sklearn\\neural_network\\multilayer_perceptron.py:564: ConvergenceWarning: Stochastic Optimizer: Maximum iterations (200) reached and the optimization hasn't converged yet.\n",
      "  % self.max_iter, ConvergenceWarning)\n"
     ]
    },
    {
     "name": "stdout",
     "output_type": "stream",
     "text": [
      "Best cross-validation accuracy: 0.9675892729097949\n",
      "Test set score: 0.9647311827956989\n",
      "Best parameters: {'mlpclassifier__hidden_layer_sizes': (100,), 'mlpclassifier__learning_rate_init': 0.01}\n",
      "172.5464310646057 seconds\n"
     ]
    }
   ],
   "source": [
    "# In the following code I have tried different scalers\n",
    "# (StandardScaler, MinMaxScaler, RobustScaler).\n",
    "# About 2 minutes.\n",
    "import time\n",
    "start = time.time()\n",
    "pipe = make_pipeline(StandardScaler(), MLPClassifier())\n",
    "param_grid = {'mlpclassifier__learning_rate_init': [0.001, 0.01, 0.1],\n",
    "  'mlpclassifier__hidden_layer_sizes': [(10,), (100,), (10,10)]}\n",
    "grid_s_mlp = GridSearchCV(pipe, param_grid=param_grid, cv=5)\n",
    "grid_s_mlp.fit(X_train, y_train)\n",
    "print(\"Best cross-validation accuracy:\", grid_s_mlp.best_score_)\n",
    "print(\"Test set score:\", grid_s_mlp.score(X_test, y_test))\n",
    "print(\"Best parameters:\", grid_s_mlp.best_params_)\n",
    "print(time.time() - start, \"seconds\")"
   ]
  },
  {
   "cell_type": "code",
   "execution_count": 27,
   "metadata": {},
   "outputs": [
    {
     "name": "stderr",
     "output_type": "stream",
     "text": [
      "C:\\Users\\uhac013\\Anaconda3\\lib\\site-packages\\sklearn\\neural_network\\multilayer_perceptron.py:564: ConvergenceWarning: Stochastic Optimizer: Maximum iterations (200) reached and the optimization hasn't converged yet.\n",
      "  % self.max_iter, ConvergenceWarning)\n",
      "C:\\Users\\uhac013\\Anaconda3\\lib\\site-packages\\sklearn\\neural_network\\multilayer_perceptron.py:564: ConvergenceWarning: Stochastic Optimizer: Maximum iterations (200) reached and the optimization hasn't converged yet.\n",
      "  % self.max_iter, ConvergenceWarning)\n",
      "C:\\Users\\uhac013\\Anaconda3\\lib\\site-packages\\sklearn\\neural_network\\multilayer_perceptron.py:564: ConvergenceWarning: Stochastic Optimizer: Maximum iterations (200) reached and the optimization hasn't converged yet.\n",
      "  % self.max_iter, ConvergenceWarning)\n",
      "C:\\Users\\uhac013\\Anaconda3\\lib\\site-packages\\sklearn\\neural_network\\multilayer_perceptron.py:564: ConvergenceWarning: Stochastic Optimizer: Maximum iterations (200) reached and the optimization hasn't converged yet.\n",
      "  % self.max_iter, ConvergenceWarning)\n",
      "C:\\Users\\uhac013\\Anaconda3\\lib\\site-packages\\sklearn\\neural_network\\multilayer_perceptron.py:564: ConvergenceWarning: Stochastic Optimizer: Maximum iterations (200) reached and the optimization hasn't converged yet.\n",
      "  % self.max_iter, ConvergenceWarning)\n",
      "C:\\Users\\uhac013\\Anaconda3\\lib\\site-packages\\sklearn\\neural_network\\multilayer_perceptron.py:564: ConvergenceWarning: Stochastic Optimizer: Maximum iterations (200) reached and the optimization hasn't converged yet.\n",
      "  % self.max_iter, ConvergenceWarning)\n",
      "C:\\Users\\uhac013\\Anaconda3\\lib\\site-packages\\sklearn\\neural_network\\multilayer_perceptron.py:564: ConvergenceWarning: Stochastic Optimizer: Maximum iterations (200) reached and the optimization hasn't converged yet.\n",
      "  % self.max_iter, ConvergenceWarning)\n",
      "C:\\Users\\uhac013\\Anaconda3\\lib\\site-packages\\sklearn\\neural_network\\multilayer_perceptron.py:564: ConvergenceWarning: Stochastic Optimizer: Maximum iterations (200) reached and the optimization hasn't converged yet.\n",
      "  % self.max_iter, ConvergenceWarning)\n",
      "C:\\Users\\uhac013\\Anaconda3\\lib\\site-packages\\sklearn\\neural_network\\multilayer_perceptron.py:564: ConvergenceWarning: Stochastic Optimizer: Maximum iterations (200) reached and the optimization hasn't converged yet.\n",
      "  % self.max_iter, ConvergenceWarning)\n",
      "C:\\Users\\uhac013\\Anaconda3\\lib\\site-packages\\sklearn\\neural_network\\multilayer_perceptron.py:564: ConvergenceWarning: Stochastic Optimizer: Maximum iterations (200) reached and the optimization hasn't converged yet.\n",
      "  % self.max_iter, ConvergenceWarning)\n",
      "C:\\Users\\uhac013\\Anaconda3\\lib\\site-packages\\sklearn\\neural_network\\multilayer_perceptron.py:564: ConvergenceWarning: Stochastic Optimizer: Maximum iterations (200) reached and the optimization hasn't converged yet.\n",
      "  % self.max_iter, ConvergenceWarning)\n",
      "C:\\Users\\uhac013\\Anaconda3\\lib\\site-packages\\sklearn\\neural_network\\multilayer_perceptron.py:564: ConvergenceWarning: Stochastic Optimizer: Maximum iterations (200) reached and the optimization hasn't converged yet.\n",
      "  % self.max_iter, ConvergenceWarning)\n",
      "C:\\Users\\uhac013\\Anaconda3\\lib\\site-packages\\sklearn\\neural_network\\multilayer_perceptron.py:564: ConvergenceWarning: Stochastic Optimizer: Maximum iterations (200) reached and the optimization hasn't converged yet.\n",
      "  % self.max_iter, ConvergenceWarning)\n",
      "C:\\Users\\uhac013\\Anaconda3\\lib\\site-packages\\sklearn\\neural_network\\multilayer_perceptron.py:564: ConvergenceWarning: Stochastic Optimizer: Maximum iterations (200) reached and the optimization hasn't converged yet.\n",
      "  % self.max_iter, ConvergenceWarning)\n"
     ]
    },
    {
     "name": "stdout",
     "output_type": "stream",
     "text": [
      "Best cross-validation accuracy: 0.9638606051914528\n",
      "Test set score: 0.9643010752688173\n",
      "Best parameters: {'mlpclassifier__hidden_layer_sizes': (100,), 'mlpclassifier__learning_rate_init': 0.01}\n",
      "268.43754267692566 seconds\n"
     ]
    }
   ],
   "source": [
    "# This is identical to the previous cell except that now Normalizer is used.\n",
    "# About 2 minutes.\n",
    "import time\n",
    "start = time.time()\n",
    "pipe = make_pipeline(Normalizer(), MLPClassifier())\n",
    "param_grid = {'mlpclassifier__learning_rate_init': [0.001, 0.01, 0.1],\n",
    "  'mlpclassifier__hidden_layer_sizes': [(10,), (100,), (10,10)]}\n",
    "grid_n_mlp = GridSearchCV(pipe, param_grid=param_grid, cv=5)\n",
    "grid_n_mlp.fit(X_train, y_train)\n",
    "print(\"Best cross-validation accuracy:\", grid_n_mlp.best_score_)\n",
    "print(\"Test set score:\", grid_n_mlp.score(X_test, y_test))\n",
    "print(\"Best parameters:\", grid_n_mlp.best_params_)\n",
    "print(time.time() - start, \"seconds\")"
   ]
  },
  {
   "cell_type": "markdown",
   "metadata": {},
   "source": [
    "### Comments for task 5"
   ]
  },
  {
   "cell_type": "markdown",
   "metadata": {},
   "source": [
    "The default values of parameters are OK, and parameter selection does not improve the results. Normalizer works fine (although it does not improve the results), and the scalers do not make the results substantially worse."
   ]
  }
 ],
 "metadata": {
  "kernelspec": {
   "display_name": "Python 3",
   "language": "python",
   "name": "python3"
  },
  "language_info": {
   "codemirror_mode": {
    "name": "ipython",
    "version": 3
   },
   "file_extension": ".py",
   "mimetype": "text/x-python",
   "name": "python",
   "nbconvert_exporter": "python",
   "pygments_lexer": "ipython3",
   "version": "3.6.5"
  }
 },
 "nbformat": 4,
 "nbformat_minor": 2
}
